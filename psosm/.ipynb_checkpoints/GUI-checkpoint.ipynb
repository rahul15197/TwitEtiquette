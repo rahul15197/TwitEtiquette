{
 "cells": [
  {
   "cell_type": "code",
   "execution_count": 1,
   "metadata": {
    "colab": {
     "base_uri": "https://localhost:8080/"
    },
    "id": "NTNsqxacvVfJ",
    "outputId": "85b0d54d-f02a-4c58-d9d2-be5e2c8cc966"
   },
   "outputs": [
    {
     "data": {
      "text/html": [
       "        <script type=\"text/javascript\">\n",
       "        window.PlotlyConfig = {MathJaxConfig: 'local'};\n",
       "        if (window.MathJax) {MathJax.Hub.Config({SVG: {font: \"STIX-Web\"}});}\n",
       "        if (typeof require !== 'undefined') {\n",
       "        require.undef(\"plotly\");\n",
       "        requirejs.config({\n",
       "            paths: {\n",
       "                'plotly': ['https://cdn.plot.ly/plotly-latest.min']\n",
       "            }\n",
       "        });\n",
       "        require(['plotly'], function(Plotly) {\n",
       "            window._Plotly = Plotly;\n",
       "        });\n",
       "        }\n",
       "        </script>\n",
       "        "
      ]
     },
     "metadata": {},
     "output_type": "display_data"
    },
    {
     "data": {
      "text/html": [
       "        <script type=\"text/javascript\">\n",
       "        window.PlotlyConfig = {MathJaxConfig: 'local'};\n",
       "        if (window.MathJax) {MathJax.Hub.Config({SVG: {font: \"STIX-Web\"}});}\n",
       "        if (typeof require !== 'undefined') {\n",
       "        require.undef(\"plotly\");\n",
       "        requirejs.config({\n",
       "            paths: {\n",
       "                'plotly': ['https://cdn.plot.ly/plotly-latest.min']\n",
       "            }\n",
       "        });\n",
       "        require(['plotly'], function(Plotly) {\n",
       "            window._Plotly = Plotly;\n",
       "        });\n",
       "        }\n",
       "        </script>\n",
       "        "
      ]
     },
     "metadata": {},
     "output_type": "display_data"
    }
   ],
   "source": [
    "import numpy as np\n",
    "import cv2 \n",
    "from matplotlib import pyplot as plt\n",
    "import random\n",
    "import math\n",
    "import time\n",
    "import os\n",
    "import subprocess\n",
    "import shutil\n",
    "import glob\n",
    "import time\n",
    "import moviepy.editor as mp \n",
    "import wave\n",
    "import errno,stat\n",
    "from flask import Flask, redirect, url_for, render_template, request\n",
    "from flask_ngrok import run_with_ngrok\n",
    "import os\n",
    "from time import time,sleep\n",
    "from Analyze import analyze_handle, generate_report\n",
    "from flask import send_file\n",
    "import pickle"
   ]
  },
  {
   "cell_type": "code",
   "execution_count": null,
   "metadata": {
    "scrolled": true
   },
   "outputs": [
    {
     "name": "stdout",
     "output_type": "stream",
     "text": [
      " * Serving Flask app \"__main__\" (lazy loading)\n",
      " * Environment: production\n",
      "   WARNING: This is a development server. Do not use it in a production deployment.\n",
      "   Use a production WSGI server instead.\n",
      " * Debug mode: off\n"
     ]
    },
    {
     "name": "stderr",
     "output_type": "stream",
     "text": [
      " * Running on http://127.0.0.1:5000/ (Press CTRL+C to quit)\n",
      "127.0.0.1 - - [25/Apr/2021 14:25:08] \"\u001b[37mGET / HTTP/1.1\u001b[0m\" 200 -\n",
      "127.0.0.1 - - [25/Apr/2021 14:25:08] \"\u001b[33mGET /css/styles.css?v=1.0 HTTP/1.1\u001b[0m\" 404 -\n",
      "127.0.0.1 - - [25/Apr/2021 14:25:57] \"\u001b[37mPOST /home.html HTTP/1.1\u001b[0m\" 200 -\n",
      "127.0.0.1 - - [25/Apr/2021 14:25:57] \"\u001b[33mGET /css/styles.css?v=1.0 HTTP/1.1\u001b[0m\" 404 -\n",
      "127.0.0.1 - - [25/Apr/2021 14:27:18] \"\u001b[37mPOST /home.html HTTP/1.1\u001b[0m\" 200 -\n",
      "127.0.0.1 - - [25/Apr/2021 14:27:18] \"\u001b[33mGET /css/styles.css?v=1.0 HTTP/1.1\u001b[0m\" 404 -\n",
      "127.0.0.1 - - [25/Apr/2021 14:27:41] \"\u001b[37mGET /home.html HTTP/1.1\u001b[0m\" 200 -\n",
      "127.0.0.1 - - [25/Apr/2021 14:27:41] \"\u001b[33mGET /css/styles.css?v=1.0 HTTP/1.1\u001b[0m\" 404 -\n",
      "127.0.0.1 - - [25/Apr/2021 14:28:23] \"\u001b[37mPOST /home.html HTTP/1.1\u001b[0m\" 200 -\n",
      "127.0.0.1 - - [25/Apr/2021 14:28:23] \"\u001b[33mGET /css/styles.css?v=1.0 HTTP/1.1\u001b[0m\" 404 -\n"
     ]
    }
   ],
   "source": [
    "staticPath = \"static/\"\n",
    "\n",
    "app = Flask(__name__)\n",
    "app.config['STATIC'] = \"./static/\"\n",
    "# run_with_ngrok(app) \n",
    "\n",
    "@app.route(\"/\")\n",
    "def root():\n",
    "    return render_template(\"home.html\")\n",
    "\n",
    "@app.route(\"/description.html\")\n",
    "def description():\n",
    "    return render_template(\"description.html\")\n",
    "\n",
    "@app.route(\"/contact.html\")\n",
    "def contact():\n",
    "    return render_template(\"contact.html\")\n",
    "\n",
    "@app.route(\"/readme.html\")\n",
    "def readme():\n",
    "    return render_template(\"readme.html\")\n",
    "\n",
    "@app.route(\"/stats.html\", methods =[\"GET\", \"POST\"])\n",
    "def get_report():\n",
    "    if request.method == \"POST\":\n",
    "        generate_report()\n",
    "        file = open('output_values', 'rb')\n",
    "        output = pickle.load(file)\n",
    "        return render_template(\"stats.html\", results=output)\n",
    "    else:\n",
    "        file = open('output_values', 'rb')\n",
    "        output = pickle.load(file)\n",
    "        return render_template(\"stats.html\", results=output)\n",
    "\n",
    "@app.route(\"/home.html\", methods =[\"GET\", \"POST\"])\n",
    "def get_input():\n",
    "    if request.method == \"POST\":\n",
    "        handle = request.form.get(\"handleinput\")\n",
    "        output = analyze_handle(handle)\n",
    "        file = open('output_values', 'wb')\n",
    "        pickle.dump(output, file)\n",
    "        file.close()\n",
    "        return render_template(\"stats.html\", results=output)\n",
    "    else:\n",
    "        return render_template(\"home.html\")\n",
    "        \n",
    "if __name__ == \"__main__\":\n",
    "    app.run()"
   ]
  },
  {
   "cell_type": "code",
   "execution_count": null,
   "metadata": {},
   "outputs": [],
   "source": []
  }
 ],
 "metadata": {
  "colab": {
   "collapsed_sections": [],
   "name": "Final Running Code.ipynb",
   "provenance": [],
   "toc_visible": true
  },
  "kernelspec": {
   "display_name": "Python 3",
   "language": "python",
   "name": "python3"
  },
  "language_info": {
   "codemirror_mode": {
    "name": "ipython",
    "version": 3
   },
   "file_extension": ".py",
   "mimetype": "text/x-python",
   "name": "python",
   "nbconvert_exporter": "python",
   "pygments_lexer": "ipython3",
   "version": "3.8.3"
  }
 },
 "nbformat": 4,
 "nbformat_minor": 1
}
